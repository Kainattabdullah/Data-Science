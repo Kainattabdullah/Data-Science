{
  "nbformat": 4,
  "nbformat_minor": 0,
  "metadata": {
    "colab": {
      "provenance": []
    },
    "kernelspec": {
      "name": "python3",
      "display_name": "Python 3"
    },
    "language_info": {
      "name": "python"
    }
  },
  "cells": [
    {
      "cell_type": "code",
      "execution_count": 2,
      "metadata": {
        "id": "WvKilDh60Jph"
      },
      "outputs": [],
      "source": [
        "import pandas as pd\n",
        "ratings_data = pd.read_csv('/content/ratings.csv')\n",
        "movies_data = pd.read_csv('/content/movies.csv')\n",
        "# Merge the two datasets\n",
        "movie_ratings_data = pd.merge(ratings_data, movies_data, on='movieId')\n"
      ]
    },
    {
      "cell_type": "code",
      "source": [
        "import matplotlib.pyplot as plt\n",
        "import seaborn as sns\n",
        "# Plot the distribution of movie ratings\n",
        "sns.displot(movie_ratings_data ['rating'])\n",
        "plt.title('Distribution of Movie Ratings')\n",
        "plt.show()"
      ],
      "metadata": {
        "colab": {
          "base_uri": "https://localhost:8080/",
          "height": 529
        },
        "id": "8XSsY9Hm0moZ",
        "outputId": "83b5cba5-b7b4-4a3e-d4cf-98ef4a1640c5"
      },
      "execution_count": 10,
      "outputs": [
        {
          "output_type": "display_data",
          "data": {
            "text/plain": [
              "<Figure size 500x500 with 1 Axes>"
            ],
            "image/png": "[encoded data removed]"
          },
          "metadata": {}
        }
      ]
    },
    {
      "cell_type": "code",
      "source": [
        "!pip install surprise\n",
        "from surprise import SVD\n",
        "from surprise import Dataset\n",
        "from surprise import Reader\n",
        "from surprise.model_selection import cross_validate\n",
        "import numpy as np\n",
        "from surprise import SVD, Dataset, Reader\n",
        "from surprise.model_selection import train_test_split\n",
        "\n",
        "# Load the dataset from the merged DataFrame\n",
        "reader = Reader(rating_scale=(1, 5))\n",
        "data = Dataset.load_from_df(movie_ratings_data[['userId', 'movieId', 'rating']], reader)\n",
        "\n",
        "# Split the data into training and testing sets\n",
        "trainset, testset = train_test_split(data, test_size=0.25, random_state=42)\n",
        "\n",
        "# Train the SVD model\n",
        "algo = SVD()\n",
        "algo.fit(trainset)\n",
        "\n",
        "# Generate predictions for the test set\n",
        "test_predictions = algo.test(testset)\n",
        "\n",
        "# Calculate the overall RMSE and MAE\n",
        "from surprise import accuracy\n",
        "rmse = accuracy.rmse(test_predictions)\n",
        "mae = accuracy.mae(test_predictions)\n",
        "print(f\"RMSE: {rmse:.4f}\")\n",
        "print(f\"MAE: {mae:.4f}\")\n",
        "\n",
        "# Get the top-n recommendations for a user\n",
        "def get_top_n(predictions, n=10):\n",
        "    \"\"\"Return the top-N recommendation for each user from a set of predictions.\"\"\"\n",
        "    # First map the predictions to each user.\n",
        "    top_n = {}\n",
        "    for uid, iid, true_r, est, _ in predictions:\n",
        "        if uid not in top_n:\n",
        "            top_n[uid] = []\n",
        "        top_n[uid].append((iid, est))\n",
        "\n",
        "    # Then sort the recommendations for each user and retain the top-n items.\n",
        "    for uid, user_ratings in top_n.items():\n",
        "        user_ratings.sort(key=lambda x: x[1], reverse=True)\n",
        "        top_n[uid] = user_ratings[:n]\n",
        "\n",
        "    return top_n\n",
        "\n",
        "# Get the top 10 recommendations for each user\n",
        "top_n = get_top_n(test_predictions, n=10)\n",
        "\n",
        "# Print the recommendations for a specific user\n",
        "user_id = 196\n",
        "print(f\"Recommendations for user {user_id}:\")\n",
        "for iid, rating in top_n[user_id]:\n",
        "    print(f\"Movie ID {iid}: {rating:.2f}\")"
      ],
      "metadata": {
        "colab": {
          "base_uri": "https://localhost:8080/"
        },
        "id": "M9jX8aAw0mtj",
        "outputId": "557ebb3e-4413-4b49-d0a0-41a513796205"
      },
      "execution_count": 19,
      "outputs": [
        {
          "output_type": "stream",
          "name": "stdout",
          "text": [
            "Requirement already satisfied: surprise in /usr/local/lib/python3.10/dist-packages (0.1)\n",
            "Requirement already satisfied: scikit-surprise in /usr/local/lib/python3.10/dist-packages (from surprise) (1.1.4)\n",
            "Requirement already satisfied: joblib>=1.2.0 in /usr/local/lib/python3.10/dist-packages (from scikit-surprise->surprise) (1.4.2)\n",
            "Requirement already satisfied: numpy>=1.19.5 in /usr/local/lib/python3.10/dist-packages (from scikit-surprise->surprise) (1.25.2)\n",
            "Requirement already satisfied: scipy>=1.6.0 in /usr/local/lib/python3.10/dist-packages (from scikit-surprise->surprise) (1.11.4)\n",
            "RMSE: 0.8794\n",
            "MAE:  0.6741\n",
            "RMSE: 0.8794\n",
            "MAE: 0.6741\n",
            "Recommendations for user 196:\n",
            "Movie ID 58559: 4.23\n",
            "Movie ID 364: 4.17\n",
            "Movie ID 2762: 4.02\n",
            "Movie ID 1259: 4.02\n",
            "Movie ID 1214: 4.01\n",
            "Movie ID 457: 4.00\n",
            "Movie ID 1036: 3.97\n",
            "Movie ID 4963: 3.82\n",
            "Movie ID 104: 3.58\n",
            "Movie ID 62: 3.49\n"
          ]
        }
      ]
    },
    {
      "cell_type": "code",
      "source": [
        "import pandas as pd\n",
        "from sklearn.feature_extraction.text import CountVectorizer\n",
        "from sklearn.metrics.pairwise import cosine_similarity\n",
        "\n",
        "# Load the data\n",
        "data = pd.read_csv('movies.csv')\n",
        "\n",
        "# Check if the data frame is empty\n",
        "if data.empty:\n",
        "    print(\"The 'movies.csv' file is empty.\")\n",
        "    exit()\n",
        "\n",
        "# Create a genre list for each movie\n",
        "data['genres'] = data[data.columns[2:]].apply(lambda x: '|'.join(x.dropna()), axis=1)\n",
        "\n",
        "# Create a genre count vector\n",
        "genre_vectorizer = CountVectorizer(token_pattern=r'(\\w+)')\n",
        "genre_matrix = genre_vectorizer.fit_transform(data['genres'])\n",
        "\n",
        "# Compute the cosine similarity matrix\n",
        "cosine_sim = cosine_similarity(genre_matrix, genre_matrix)\n",
        "\n",
        "# Function to get the top n recommendations for a given movie\n",
        "def get_recommendations(title, cosine_sim=cosine_sim, topn=10):\n",
        "    # Get the index of the movie that matches the title\n",
        "    try:\n",
        "        idx = data[data['title'] == title].index[0]\n",
        "    except IndexError:\n",
        "        print(f\"Movie '{title}' not found in the dataset.\")\n",
        "        return pd.DataFrame()\n",
        "\n",
        "    # Get the pairwise similarity scores of all movies with that movie\n",
        "    sim_scores = list(enumerate(cosine_sim[idx]))\n",
        "\n",
        "    # Sort the movies based on the similarity scores\n",
        "    sim_scores = sorted(sim_scores, key=lambda x: x[1], reverse=True)\n",
        "\n",
        "    # Get the scores of the top n most similar movies\n",
        "    sim_scores = sim_scores[1:topn+1]\n",
        "\n",
        "    # Get the movie indices\n",
        "    movie_indices = [i[0] for i in sim_scores]\n",
        "\n",
        "    # Return the top n most similar movies\n",
        "    return data.iloc[movie_indices]\n",
        "\n",
        "# Example usage\n",
        "recommendations = get_recommendations('Toy Story (1995)')\n",
        "print(recommendations)\n"
      ],
      "metadata": {
        "colab": {
          "base_uri": "https://localhost:8080/"
        },
        "id": "8WD4eaT5AiN3",
        "outputId": "fc3433b4-de23-44c8-9904-bc7f96cf44c1"
      },
      "execution_count": 15,
      "outputs": [
        {
          "output_type": "stream",
          "name": "stdout",
          "text": [
            "      movieId                                              title  \\\n",
            "1706     2294                                        Antz (1998)   \n",
            "2355     3114                                 Toy Story 2 (1999)   \n",
            "2809     3754     Adventures of Rocky and Bullwinkle, The (2000)   \n",
            "3000     4016                   Emperor's New Groove, The (2000)   \n",
            "3568     4886                              Monsters, Inc. (2001)   \n",
            "6194    45074                                   Wild, The (2006)   \n",
            "6486    53121                             Shrek the Third (2007)   \n",
            "6948    65577                     Tale of Despereaux, The (2008)   \n",
            "7760    91355  Asterix and the Vikings (Astérix et les Viking...   \n",
            "8219   103755                                       Turbo (2013)   \n",
            "\n",
            "                                           genres  \n",
            "1706  Adventure|Animation|Children|Comedy|Fantasy  \n",
            "2355  Adventure|Animation|Children|Comedy|Fantasy  \n",
            "2809  Adventure|Animation|Children|Comedy|Fantasy  \n",
            "3000  Adventure|Animation|Children|Comedy|Fantasy  \n",
            "3568  Adventure|Animation|Children|Comedy|Fantasy  \n",
            "6194  Adventure|Animation|Children|Comedy|Fantasy  \n",
            "6486  Adventure|Animation|Children|Comedy|Fantasy  \n",
            "6948  Adventure|Animation|Children|Comedy|Fantasy  \n",
            "7760  Adventure|Animation|Children|Comedy|Fantasy  \n",
            "8219  Adventure|Animation|Children|Comedy|Fantasy  \n"
          ]
        }
      ]
    }
  ]
}