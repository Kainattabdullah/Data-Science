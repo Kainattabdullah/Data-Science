{
 "cells": [
  {
   "cell_type": "code",
   "execution_count": 1,
   "metadata": {
    "colab": {
     "base_uri": "https://localhost:8080/",
     "height": 160
    },
    "id": "-kVYQPdUXxkh",
    "outputId": "f5c77456-f580-4876-f7a1-c9e47f92c36d"
   },
   "outputs": [
    {
     "data": {
      "text/html": [
       "\n",
       "     <input type=\"file\" id=\"files-6cb7dba8-25cf-4f84-8179-3fcfa5cc7621\" name=\"files[]\" multiple disabled\n",
       "        style=\"border:none\" />\n",
       "     <output id=\"result-6cb7dba8-25cf-4f84-8179-3fcfa5cc7621\">\n",
       "      Upload widget is only available when the cell has been executed in the\n",
       "      current browser session. Please rerun this cell to enable.\n",
       "      </output>\n",
       "      <script>// Copyright 2017 Google LLC\n",
       "//\n",
       "// Licensed under the Apache License, Version 2.0 (the \"License\");\n",
       "// you may not use this file except in compliance with the License.\n",
       "// You may obtain a copy of the License at\n",
       "//\n",
       "//      http://www.apache.org/licenses/LICENSE-2.0\n",
       "//\n",
       "// Unless required by applicable law or agreed to in writing, software\n",
       "// distributed under the License is distributed on an \"AS IS\" BASIS,\n",
       "// WITHOUT WARRANTIES OR CONDITIONS OF ANY KIND, either express or implied.\n",
       "// See the License for the specific language governing permissions and\n",
       "// limitations under the License.\n",
       "\n",
       "/**\n",
       " * @fileoverview Helpers for google.colab Python module.\n",
       " */\n",
       "(function(scope) {\n",
       "function span(text, styleAttributes = {}) {\n",
       "  const element = document.createElement('span');\n",
       "  element.textContent = text;\n",
       "  for (const key of Object.keys(styleAttributes)) {\n",
       "    element.style[key] = styleAttributes[key];\n",
       "  }\n",
       "  return element;\n",
       "}\n",
       "\n",
       "// Max number of bytes which will be uploaded at a time.\n",
       "const MAX_PAYLOAD_SIZE = 100 * 1024;\n",
       "\n",
       "function _uploadFiles(inputId, outputId) {\n",
       "  const steps = uploadFilesStep(inputId, outputId);\n",
       "  const outputElement = document.getElementById(outputId);\n",
       "  // Cache steps on the outputElement to make it available for the next call\n",
       "  // to uploadFilesContinue from Python.\n",
       "  outputElement.steps = steps;\n",
       "\n",
       "  return _uploadFilesContinue(outputId);\n",
       "}\n",
       "\n",
       "// This is roughly an async generator (not supported in the browser yet),\n",
       "// where there are multiple asynchronous steps and the Python side is going\n",
       "// to poll for completion of each step.\n",
       "// This uses a Promise to block the python side on completion of each step,\n",
       "// then passes the result of the previous step as the input to the next step.\n",
       "function _uploadFilesContinue(outputId) {\n",
       "  const outputElement = document.getElementById(outputId);\n",
       "  const steps = outputElement.steps;\n",
       "\n",
       "  const next = steps.next(outputElement.lastPromiseValue);\n",
       "  return Promise.resolve(next.value.promise).then((value) => {\n",
       "    // Cache the last promise value to make it available to the next\n",
       "    // step of the generator.\n",
       "    outputElement.lastPromiseValue = value;\n",
       "    return next.value.response;\n",
       "  });\n",
       "}\n",
       "\n",
       "/**\n",
       " * Generator function which is called between each async step of the upload\n",
       " * process.\n",
       " * @param {string} inputId Element ID of the input file picker element.\n",
       " * @param {string} outputId Element ID of the output display.\n",
       " * @return {!Iterable<!Object>} Iterable of next steps.\n",
       " */\n",
       "function* uploadFilesStep(inputId, outputId) {\n",
       "  const inputElement = document.getElementById(inputId);\n",
       "  inputElement.disabled = false;\n",
       "\n",
       "  const outputElement = document.getElementById(outputId);\n",
       "  outputElement.innerHTML = '';\n",
       "\n",
       "  const pickedPromise = new Promise((resolve) => {\n",
       "    inputElement.addEventListener('change', (e) => {\n",
       "      resolve(e.target.files);\n",
       "    });\n",
       "  });\n",
       "\n",
       "  const cancel = document.createElement('button');\n",
       "  inputElement.parentElement.appendChild(cancel);\n",
       "  cancel.textContent = 'Cancel upload';\n",
       "  const cancelPromise = new Promise((resolve) => {\n",
       "    cancel.onclick = () => {\n",
       "      resolve(null);\n",
       "    };\n",
       "  });\n",
       "\n",
       "  // Wait for the user to pick the files.\n",
       "  const files = yield {\n",
       "    promise: Promise.race([pickedPromise, cancelPromise]),\n",
       "    response: {\n",
       "      action: 'starting',\n",
       "    }\n",
       "  };\n",
       "\n",
       "  cancel.remove();\n",
       "\n",
       "  // Disable the input element since further picks are not allowed.\n",
       "  inputElement.disabled = true;\n",
       "\n",
       "  if (!files) {\n",
       "    return {\n",
       "      response: {\n",
       "        action: 'complete',\n",
       "      }\n",
       "    };\n",
       "  }\n",
       "\n",
       "  for (const file of files) {\n",
       "    const li = document.createElement('li');\n",
       "    li.append(span(file.name, {fontWeight: 'bold'}));\n",
       "    li.append(span(\n",
       "        `(${file.type || 'n/a'}) - ${file.size} bytes, ` +\n",
       "        `last modified: ${\n",
       "            file.lastModifiedDate ? file.lastModifiedDate.toLocaleDateString() :\n",
       "                                    'n/a'} - `));\n",
       "    const percent = span('0% done');\n",
       "    li.appendChild(percent);\n",
       "\n",
       "    outputElement.appendChild(li);\n",
       "\n",
       "    const fileDataPromise = new Promise((resolve) => {\n",
       "      const reader = new FileReader();\n",
       "      reader.onload = (e) => {\n",
       "        resolve(e.target.result);\n",
       "      };\n",
       "      reader.readAsArrayBuffer(file);\n",
       "    });\n",
       "    // Wait for the data to be ready.\n",
       "    let fileData = yield {\n",
       "      promise: fileDataPromise,\n",
       "      response: {\n",
       "        action: 'continue',\n",
       "      }\n",
       "    };\n",
       "\n",
       "    // Use a chunked sending to avoid message size limits. See b/62115660.\n",
       "    let position = 0;\n",
       "    do {\n",
       "      const length = Math.min(fileData.byteLength - position, MAX_PAYLOAD_SIZE);\n",
       "      const chunk = new Uint8Array(fileData, position, length);\n",
       "      position += length;\n",
       "\n",
       "      const base64 = btoa(String.fromCharCode.apply(null, chunk));\n",
       "      yield {\n",
       "        response: {\n",
       "          action: 'append',\n",
       "          file: file.name,\n",
       "          data: base64,\n",
       "        },\n",
       "      };\n",
       "\n",
       "      let percentDone = fileData.byteLength === 0 ?\n",
       "          100 :\n",
       "          Math.round((position / fileData.byteLength) * 100);\n",
       "      percent.textContent = `${percentDone}% done`;\n",
       "\n",
       "    } while (position < fileData.byteLength);\n",
       "  }\n",
       "\n",
       "  // All done.\n",
       "  yield {\n",
       "    response: {\n",
       "      action: 'complete',\n",
       "    }\n",
       "  };\n",
       "}\n",
       "\n",
       "scope.google = scope.google || {};\n",
       "scope.google.colab = scope.google.colab || {};\n",
       "scope.google.colab._files = {\n",
       "  _uploadFiles,\n",
       "  _uploadFilesContinue,\n",
       "};\n",
       "})(self);\n",
       "</script> "
      ],
      "text/plain": [
       "<IPython.core.display.HTML object>"
      ]
     },
     "metadata": {},
     "output_type": "display_data"
    },
    {
     "name": "stdout",
     "output_type": "stream",
     "text": [
      "Saving numbers.csv to numbers.csv\n",
      "Arithmetic Mean:\n",
      "Column 1    34.931034\n",
      "Column 2    21.206897\n",
      "Column 3    49.137931\n",
      "dtype: float64\n"
     ]
    }
   ],
   "source": [
    "# Arithmetic Mean\n",
    "import pandas as pd\n",
    "from google.colab import files\n",
    "uploaded = files.upload()\n",
    "import numpy as np\n",
    "from scipy.stats import trim_mean,mode\n",
    "from sklearn.linear_model import LinearRegression\n",
    "# Read the CSV file\n",
    "data= pd.read_csv('/content/numbers.csv')\n",
    "# Calculate Arithmetic Mean\n",
    "arithmetic_mean= data.mean()\n",
    "print(\"Arithmetic Mean:\")\n",
    "print(arithmetic_mean)\n"
   ]
  },
  {
   "cell_type": "code",
   "execution_count": 2,
   "metadata": {
    "colab": {
     "base_uri": "https://localhost:8080/",
     "height": 108
    },
    "id": "BYjvV0jybicV",
    "outputId": "2e91df0f-72d3-4411-e00c-d366c4c29a43"
   },
   "outputs": [
    {
     "data": {
      "text/html": [
       "\n",
       "     <input type=\"file\" id=\"files-1a803911-d1c9-4eaa-9840-4d294074e633\" name=\"files[]\" multiple disabled\n",
       "        style=\"border:none\" />\n",
       "     <output id=\"result-1a803911-d1c9-4eaa-9840-4d294074e633\">\n",
       "      Upload widget is only available when the cell has been executed in the\n",
       "      current browser session. Please rerun this cell to enable.\n",
       "      </output>\n",
       "      <script>// Copyright 2017 Google LLC\n",
       "//\n",
       "// Licensed under the Apache License, Version 2.0 (the \"License\");\n",
       "// you may not use this file except in compliance with the License.\n",
       "// You may obtain a copy of the License at\n",
       "//\n",
       "//      http://www.apache.org/licenses/LICENSE-2.0\n",
       "//\n",
       "// Unless required by applicable law or agreed to in writing, software\n",
       "// distributed under the License is distributed on an \"AS IS\" BASIS,\n",
       "// WITHOUT WARRANTIES OR CONDITIONS OF ANY KIND, either express or implied.\n",
       "// See the License for the specific language governing permissions and\n",
       "// limitations under the License.\n",
       "\n",
       "/**\n",
       " * @fileoverview Helpers for google.colab Python module.\n",
       " */\n",
       "(function(scope) {\n",
       "function span(text, styleAttributes = {}) {\n",
       "  const element = document.createElement('span');\n",
       "  element.textContent = text;\n",
       "  for (const key of Object.keys(styleAttributes)) {\n",
       "    element.style[key] = styleAttributes[key];\n",
       "  }\n",
       "  return element;\n",
       "}\n",
       "\n",
       "// Max number of bytes which will be uploaded at a time.\n",
       "const MAX_PAYLOAD_SIZE = 100 * 1024;\n",
       "\n",
       "function _uploadFiles(inputId, outputId) {\n",
       "  const steps = uploadFilesStep(inputId, outputId);\n",
       "  const outputElement = document.getElementById(outputId);\n",
       "  // Cache steps on the outputElement to make it available for the next call\n",
       "  // to uploadFilesContinue from Python.\n",
       "  outputElement.steps = steps;\n",
       "\n",
       "  return _uploadFilesContinue(outputId);\n",
       "}\n",
       "\n",
       "// This is roughly an async generator (not supported in the browser yet),\n",
       "// where there are multiple asynchronous steps and the Python side is going\n",
       "// to poll for completion of each step.\n",
       "// This uses a Promise to block the python side on completion of each step,\n",
       "// then passes the result of the previous step as the input to the next step.\n",
       "function _uploadFilesContinue(outputId) {\n",
       "  const outputElement = document.getElementById(outputId);\n",
       "  const steps = outputElement.steps;\n",
       "\n",
       "  const next = steps.next(outputElement.lastPromiseValue);\n",
       "  return Promise.resolve(next.value.promise).then((value) => {\n",
       "    // Cache the last promise value to make it available to the next\n",
       "    // step of the generator.\n",
       "    outputElement.lastPromiseValue = value;\n",
       "    return next.value.response;\n",
       "  });\n",
       "}\n",
       "\n",
       "/**\n",
       " * Generator function which is called between each async step of the upload\n",
       " * process.\n",
       " * @param {string} inputId Element ID of the input file picker element.\n",
       " * @param {string} outputId Element ID of the output display.\n",
       " * @return {!Iterable<!Object>} Iterable of next steps.\n",
       " */\n",
       "function* uploadFilesStep(inputId, outputId) {\n",
       "  const inputElement = document.getElementById(inputId);\n",
       "  inputElement.disabled = false;\n",
       "\n",
       "  const outputElement = document.getElementById(outputId);\n",
       "  outputElement.innerHTML = '';\n",
       "\n",
       "  const pickedPromise = new Promise((resolve) => {\n",
       "    inputElement.addEventListener('change', (e) => {\n",
       "      resolve(e.target.files);\n",
       "    });\n",
       "  });\n",
       "\n",
       "  const cancel = document.createElement('button');\n",
       "  inputElement.parentElement.appendChild(cancel);\n",
       "  cancel.textContent = 'Cancel upload';\n",
       "  const cancelPromise = new Promise((resolve) => {\n",
       "    cancel.onclick = () => {\n",
       "      resolve(null);\n",
       "    };\n",
       "  });\n",
       "\n",
       "  // Wait for the user to pick the files.\n",
       "  const files = yield {\n",
       "    promise: Promise.race([pickedPromise, cancelPromise]),\n",
       "    response: {\n",
       "      action: 'starting',\n",
       "    }\n",
       "  };\n",
       "\n",
       "  cancel.remove();\n",
       "\n",
       "  // Disable the input element since further picks are not allowed.\n",
       "  inputElement.disabled = true;\n",
       "\n",
       "  if (!files) {\n",
       "    return {\n",
       "      response: {\n",
       "        action: 'complete',\n",
       "      }\n",
       "    };\n",
       "  }\n",
       "\n",
       "  for (const file of files) {\n",
       "    const li = document.createElement('li');\n",
       "    li.append(span(file.name, {fontWeight: 'bold'}));\n",
       "    li.append(span(\n",
       "        `(${file.type || 'n/a'}) - ${file.size} bytes, ` +\n",
       "        `last modified: ${\n",
       "            file.lastModifiedDate ? file.lastModifiedDate.toLocaleDateString() :\n",
       "                                    'n/a'} - `));\n",
       "    const percent = span('0% done');\n",
       "    li.appendChild(percent);\n",
       "\n",
       "    outputElement.appendChild(li);\n",
       "\n",
       "    const fileDataPromise = new Promise((resolve) => {\n",
       "      const reader = new FileReader();\n",
       "      reader.onload = (e) => {\n",
       "        resolve(e.target.result);\n",
       "      };\n",
       "      reader.readAsArrayBuffer(file);\n",
       "    });\n",
       "    // Wait for the data to be ready.\n",
       "    let fileData = yield {\n",
       "      promise: fileDataPromise,\n",
       "      response: {\n",
       "        action: 'continue',\n",
       "      }\n",
       "    };\n",
       "\n",
       "    // Use a chunked sending to avoid message size limits. See b/62115660.\n",
       "    let position = 0;\n",
       "    do {\n",
       "      const length = Math.min(fileData.byteLength - position, MAX_PAYLOAD_SIZE);\n",
       "      const chunk = new Uint8Array(fileData, position, length);\n",
       "      position += length;\n",
       "\n",
       "      const base64 = btoa(String.fromCharCode.apply(null, chunk));\n",
       "      yield {\n",
       "        response: {\n",
       "          action: 'append',\n",
       "          file: file.name,\n",
       "          data: base64,\n",
       "        },\n",
       "      };\n",
       "\n",
       "      let percentDone = fileData.byteLength === 0 ?\n",
       "          100 :\n",
       "          Math.round((position / fileData.byteLength) * 100);\n",
       "      percent.textContent = `${percentDone}% done`;\n",
       "\n",
       "    } while (position < fileData.byteLength);\n",
       "  }\n",
       "\n",
       "  // All done.\n",
       "  yield {\n",
       "    response: {\n",
       "      action: 'complete',\n",
       "    }\n",
       "  };\n",
       "}\n",
       "\n",
       "scope.google = scope.google || {};\n",
       "scope.google.colab = scope.google.colab || {};\n",
       "scope.google.colab._files = {\n",
       "  _uploadFiles,\n",
       "  _uploadFilesContinue,\n",
       "};\n",
       "})(self);\n",
       "</script> "
      ],
      "text/plain": [
       "<IPython.core.display.HTML object>"
      ]
     },
     "metadata": {},
     "output_type": "display_data"
    },
    {
     "name": "stdout",
     "output_type": "stream",
     "text": [
      "Saving numbers.csv to numbers (1).csv\n",
      "Overall Mean of all data:\n",
      "35.0919540229885\n"
     ]
    }
   ],
   "source": [
    "# Overall Mean\n",
    "import pandas as pd # import pandas library\n",
    "from google.colab import files\n",
    "uploaded = files.upload()\n",
    "\n",
    "# Read the CSV file\n",
    "data= pd.read_csv('/content/numbers.csv')\n",
    "# Calculate overall mean of all data\n",
    "overall_mean= data.values.mean()\n",
    "# Print the result\n",
    "print(\"Overall Mean of all data:\")\n",
    "print(overall_mean)"
   ]
  },
  {
   "cell_type": "code",
   "execution_count": 3,
   "metadata": {
    "colab": {
     "base_uri": "https://localhost:8080/"
    },
    "id": "-mSMbepceh4O",
    "outputId": "022181e3-eb86-4b15-bc87-1855411f6327"
   },
   "outputs": [
    {
     "name": "stdout",
     "output_type": "stream",
     "text": [
      "Weighted Average Grade: 85.75\n"
     ]
    }
   ],
   "source": [
    "# Weighted Average\n",
    "import numpy as np\n",
    "# Sample grades and corresponding credits\n",
    "grades = [85, 90, 75, 88]\n",
    "credits = [3, 4, 2, 3]\n",
    "# Calculate the weighted average\n",
    "weighted_avg = np.average(grades, weights=credits)\n",
    "# Display the result\n",
    "print(\"Weighted Average Grade:\", weighted_avg)"
   ]
  },
  {
   "cell_type": "code",
   "execution_count": 6,
   "metadata": {
    "colab": {
     "base_uri": "https://localhost:8080/"
    },
    "id": "zbp4XpwLBOpN",
    "outputId": "d91240cb-60b0-4f88-f665-847f878f5205"
   },
   "outputs": [
    {
     "name": "stdout",
     "output_type": "stream",
     "text": [
      "Trimmed Mean: [33.72 21.12 48.8 ]\n"
     ]
    }
   ],
   "source": [
    "# Trimmed Mean\n",
    "import numpy as np\n",
    "# Sample grades and corresponding credits\n",
    "grades = [85, 90, 75, 88]\n",
    "credits = [3, 4, 2, 3]\n",
    "# Calculate the trimmed mean\n",
    "trimmed_mean = trim_mean(data, proportiontocut=0.1)\n",
    "# Display the result\n",
    "print(\"Trimmed Mean:\", trimmed_mean)"
   ]
  },
  {
   "cell_type": "code",
   "execution_count": 7,
   "metadata": {
    "colab": {
     "base_uri": "https://localhost:8080/"
    },
    "id": "p3ocrTC8B5pr",
    "outputId": "1cc582e9-b36b-41a0-be69-c035e3cddfab"
   },
   "outputs": [
    {
     "name": "stdout",
     "output_type": "stream",
     "text": [
      "Median:\n",
      "Column 1    35.0\n",
      "Column 2    20.0\n",
      "Column 3    40.0\n",
      "dtype: float64\n"
     ]
    }
   ],
   "source": [
    "# Calculate Median\n",
    "median = data.median()\n",
    "print(\"Median:\")\n",
    "print(median)"
   ]
  },
  {
   "cell_type": "code",
   "execution_count": 8,
   "metadata": {
    "colab": {
     "base_uri": "https://localhost:8080/"
    },
    "id": "I8QlUVBxB9tp",
    "outputId": "53800545-0fd1-4647-8434-76bf26f69663"
   },
   "outputs": [
    {
     "name": "stdout",
     "output_type": "stream",
     "text": [
      "Mode:\n",
      "Column 1    35.0\n",
      "Column 2    19.0\n",
      "Column 3     6.0\n",
      "Name: 0, dtype: float64\n"
     ]
    }
   ],
   "source": [
    "# Calculate Mode\n",
    "import pandas as pd\n",
    "from scipy.stats import mode\n",
    "# Read the CSV file\n",
    "data = pd.read_csv('/content/numbers.csv') # Replace with the actual file path\n",
    "# Calculate Mode\n",
    "mode_values = data.mode().iloc[0]\n",
    "print(\"Mode:\")\n",
    "print(mode_values)"
   ]
  },
  {
   "cell_type": "code",
   "execution_count": 9,
   "metadata": {
    "colab": {
     "base_uri": "https://localhost:8080/"
    },
    "id": "dwBpip73CIMN",
    "outputId": "e5caa3ea-9385-4d2c-a3f3-8bdc636b82df"
   },
   "outputs": [
    {
     "name": "stdout",
     "output_type": "stream",
     "text": [
      "Standard Deviation:\n",
      "Column 1    13.543399\n",
      "Column 2     4.262623\n",
      "Column 3    31.952782\n",
      "dtype: float64\n"
     ]
    }
   ],
   "source": [
    "# Standard Deviation\n",
    "std_dev = data.std()\n",
    "print(\"Standard Deviation:\")\n",
    "print(std_dev)"
   ]
  },
  {
   "cell_type": "code",
   "execution_count": 10,
   "metadata": {
    "colab": {
     "base_uri": "https://localhost:8080/"
    },
    "id": "szU0R9nACIx7",
    "outputId": "5f167126-4b6f-4ca9-e097-b7ac3e03902f"
   },
   "outputs": [
    {
     "name": "stdout",
     "output_type": "stream",
     "text": [
      "Regression Line: y = 0.10502887068618239 * x + 17.538129448099905\n",
      "Correlation Coefficient:\n",
      "0.33370251591798805\n"
     ]
    }
   ],
   "source": [
    "# Regression and Correlation\n",
    "x = data.iloc[:, 0] # Assuming the first column is the independent variable\n",
    "y = data.iloc[:, 1] # Assuming the second column is the dependent variable\n",
    "regression_model = LinearRegression()\n",
    "regression_model.fit(x.values.reshape(-1, 1), y)\n",
    "slope = regression_model.coef_[0]\n",
    "intercept = regression_model.intercept_\n",
    "print(\"Regression Line: y =\", slope, \"* x +\", intercept)\n",
    "correlation_coefficient = data.corr().iloc[0, 1]\n",
    "print(\"Correlation Coefficient:\")\n",
    "print(correlation_coefficient)"
   ]
  },
  {
   "cell_type": "code",
   "execution_count": 11,
   "metadata": {
    "colab": {
     "base_uri": "https://localhost:8080/",
     "height": 452
    },
    "id": "aNtMhl3fCI1R",
    "outputId": "fc6ac134-e987-477b-ec31-442e648817e0"
   },
   "outputs": [
    {
     "data": {
      "image/png": "[encoded data removed]",
      "text/plain": [
       "<Figure size 640x480 with 1 Axes>"
      ]
     },
     "metadata": {},
     "output_type": "display_data"
    }
   ],
   "source": [
    "# Box Plot\n",
    "import pandas as pd\n",
    "import matplotlib.pyplot as plt\n",
    "# Read the CSV file\n",
    "data = pd.read_csv('/content/numbers.csv')\n",
    "# Create a box plot\n",
    "data.boxplot()\n",
    "plt.title('Box Plot')\n",
    "plt.show()"
   ]
  },
  {
   "cell_type": "code",
   "execution_count": 14,
   "metadata": {
    "colab": {
     "base_uri": "https://localhost:8080/"
    },
    "id": "Otm3DvNMCI5g",
    "outputId": "33d96b70-8f4e-4055-ce2d-510921e868e3"
   },
   "outputs": [
    {
     "name": "stdout",
     "output_type": "stream",
     "text": [
      "Euclidean Distance: 5.196152422706632\n"
     ]
    }
   ],
   "source": [
    "# Euclidean Distance\n",
    "import numpy as np\n",
    "from scipy.spatial.distance import euclidean\n",
    "def calculate_euclidean_distance(vector1, vector2):\n",
    "  return euclidean(vector1, vector2)\n",
    "# Example usage\n",
    "vector_a = np.array([1, 2, 3])\n",
    "vector_b = np.array([4, 5, 6])\n",
    "# Calculate Euclidean distance\n",
    "euclidean_distance = calculate_euclidean_distance(vector_a, vector_b)\n",
    "# Print the result\n",
    "print(\"Euclidean Distance:\", euclidean_distance)"
   ]
  },
  {
   "cell_type": "code",
   "execution_count": 15,
   "metadata": {
    "colab": {
     "base_uri": "https://localhost:8080/"
    },
    "id": "i41ivouUCI8W",
    "outputId": "335177b1-be5f-4c34-93e0-658fbb776b5f"
   },
   "outputs": [
    {
     "name": "stdout",
     "output_type": "stream",
     "text": [
      "Z-Scores:\n",
      "    Column 1  Column 2  Column 3\n",
      "0  -1.197116 -1.481896 -0.322894\n",
      "1  -1.046829 -1.481896  1.014811\n",
      "2  -1.121973 -1.243146 -1.373949\n",
      "3  -0.896542 -1.243146  0.887411\n",
      "4  -0.295392 -1.004396 -0.291044\n",
      "5  -0.971685 -1.004396  0.855561\n",
      "6   0.005182 -0.765646 -1.373949\n",
      "7  -0.896542 -0.765646  1.428863\n",
      "8   2.184348 -0.526896 -1.469499\n",
      "9  -0.370536 -0.526896  0.728160\n",
      "10  2.409779 -0.526896 -1.119148\n",
      "11  0.005182 -0.526896  1.588114\n",
      "12  1.733486 -0.288146 -1.087298\n",
      "13 -0.821398 -0.288146  0.887411\n",
      "14  0.155470 -0.288146 -1.150998\n",
      "15 -0.971685 -0.288146  0.951111\n",
      "16  0.005182 -0.049397 -0.450295\n",
      "17 -1.121973 -0.049397  0.537059\n",
      "18  1.282624  0.428103 -0.641396\n",
      "19  0.005182  0.428103  1.556264\n",
      "20  0.005182  0.666853 -0.450295\n",
      "21 -0.746254  0.666853  0.760010\n",
      "22  0.831763  0.905603 -1.405799\n",
      "23 -0.295392  0.905603  0.760010\n",
      "24  1.432912  1.621852 -1.119148\n",
      "25 -0.445680  1.621852  1.046661\n",
      "26  0.756619  1.621852 -0.545845\n",
      "27  0.005182  1.621852  0.377809\n",
      "28  0.380901  1.860602 -0.577696\n"
     ]
    }
   ],
   "source": [
    "# Z-Score\n",
    "from scipy.stats import zscore\n",
    "# Read the CSV file\n",
    "data = pd.read_csv('/content/numbers.csv')\n",
    "# Calculate z-scores\n",
    "z_scores = data.apply(zscore)\n",
    "print(\"Z-Scores:\")\n",
    "print(z_scores)"
   ]
  },
  {
   "cell_type": "code",
   "execution_count": 16,
   "metadata": {
    "colab": {
     "base_uri": "https://localhost:8080/"
    },
    "id": "9czyduTjCI_W",
    "outputId": "a757bce2-ffbd-446e-ae11-e0fdf2d087fa"
   },
   "outputs": [
    {
     "name": "stdout",
     "output_type": "stream",
     "text": [
      "Manhattan Distance between (1, 2) and (4, 6) is: 7\n"
     ]
    }
   ],
   "source": [
    "# Manhatan Distance\n",
    "import numpy as np\n",
    "def manhattan_distance(point1, point2):\n",
    " return np.sum(np.abs(np.array(point1) - np.array(point2)))\n",
    "# Example points\n",
    "point_a = (1, 2)\n",
    "point_b = (4, 6)\n",
    "# Calculate Manhattan distance\n",
    "distance = manhattan_distance(point_a, point_b)\n",
    "print(\"Manhattan Distance between\", point_a, \"and\", point_b, \"is:\", distance)"
   ]
  },
  {
   "cell_type": "code",
   "execution_count": 18,
   "metadata": {
    "colab": {
     "base_uri": "https://localhost:8080/"
    },
    "id": "wmLgO706CJCt",
    "outputId": "fa405253-cdf5-4aa9-c9db-71184f0c4cf2"
   },
   "outputs": [
    {
     "name": "stdout",
     "output_type": "stream",
     "text": [
      "Minkowski Distance Matrix:\n",
      "[[  0.          42.04759208  33.03028913  38.22302971  12.20655562\n",
      "   37.17526059  36.79673899  55.22680509  57.76677246  35.0142828\n",
      "   54.2678542   62.22539674  46.06517123  38.65229618  32.01562119\n",
      "   40.42276586  17.54992877  27.67670501  35.39774004  61.65225057\n",
      "   18.78829423  35.67912555  44.55333882  37.41657387  44.93328388\n",
      "   46.021734    29.89983278  30.14962686  26.47640459]\n",
      " [ 42.04759208   0.          75.01333215   4.58257569  42.24926035\n",
      "    5.47722558  76.35443668  13.49073756  89.1571646   13.34166406\n",
      "   81.36952747  23.15167381  75.82875444   7.07106781  70.03570518\n",
      "    5.47722558  48.45616576  16.18641406  61.06553856  23.43074903\n",
      "   48.91829923  12.68857754  80.62877898  16.24807681  75.80897045\n",
      "   15.29705854  56.08921465  27.65863337  55.29014379]\n",
      " [ 33.03028913  75.01333215   0.          71.06335202  35.74912586\n",
      "   70.03570518  15.13274595  88.07383266  44.20407221  66.82065549\n",
      "   47.77028365  94.24966843  39.25557285  71.22499561  18.81488772\n",
      "   73.13685801  33.03028913  60.20797289  40.02499219  93.47726996\n",
      "   33.61547263  67.6609193   27.5317998   68.4908753   36.93237063\n",
      "   77.46612163  38.01315562  58.25804665  34.55430509]\n",
      " [ 38.22302971   4.58257569  71.06335202   0.          37.86819246\n",
      "    1.73205081  72.03471385  17.11724277  84.65222974   9.11043358\n",
      "   76.90253572  25.23885893  71.30918594   4.12310563  65.63535633\n",
      "    4.58257569  43.96589587  12.4498996   56.5154846   25.17935662\n",
      "   44.40720662   9.16515139  76.11832894  12.68857754  71.23201527\n",
      "   14.31782106  51.50728104  23.32380758  50.73460358]\n",
      " [ 12.20655562  42.24926035  35.74912586  37.86819246   0.\n",
      "   37.10795063  34.24908758  54.59853478  49.61854492  32.07802986\n",
      "   44.45222154  59.16924877  36.91882988  37.77565354  27.82085549\n",
      "   40.13726448   7.54983444  28.51315486  24.45403852  58.44655678\n",
      "    9.48683298  34.2636834   38.91015292  33.95585369  36.41428291\n",
      "   43.46262762  19.5192213   24.04163056  17.49285568]\n",
      " [ 37.17526059   5.47722558  70.03570518   1.73205081  37.10795063\n",
      "    0.          71.20393248  18.05547009  84.24369413   9.16515139\n",
      "   76.63550091  26.4952826   70.8942875    3.74165739  64.83054835\n",
      "    4.24264069  43.19722213  10.95445115  56.08029957  26.2488095\n",
      "   43.57751714   8.18535277  75.37240874  12.40967365  70.63285355\n",
      "   14.35270009  50.85272854  22.69361144  49.92995093]\n",
      " [ 36.79673899  76.35443668  15.13274595  72.03471385  34.24908758\n",
      "   71.20393248   0.          88.81441324  29.17190429  66.19667665\n",
      "   33.          93.00537619  24.77902339  71.8748913    7.54983444\n",
      "   74.17546764  29.15475947  61.91930232  29.03446228  92.13576938\n",
      "   29.61418579  68.00735254  13.07669683  67.48333128  22.91287847\n",
      "   76.88953115  29.59729717  55.90169944  27.76688675]\n",
      " [ 55.22680509  13.49073756  88.07383266  17.11724277  54.59853478\n",
      "   18.05547009  88.81441324   0.          99.81482856  23.10844002\n",
      "   91.30717387  13.03840481  86.42916175  17.1464282   82.22530024\n",
      "   15.16575089  60.28266749  28.31960452  71.35124386  13.60147051\n",
      "   60.50619803  21.9317122   92.19002115  23.53720459  86.37708029\n",
      "   16.73320053  66.54321904  36.51027253  66.17401303]\n",
      " [ 57.76677246  89.1571646   44.20407221  84.65222974  49.61854492\n",
      "   84.24369413  29.17190429  99.81482856   0.          76.92203845\n",
      "   11.40175425 100.28459503  13.45362405  84.12490713  28.80972058\n",
      "   86.83893136  43.23193264  76.87002016  28.91366459  99.40824915\n",
      "   43.47413024  80.28698525  19.07878403  77.62087348  17.3781472\n",
      "   86.87347121  35.81898938  65.46754921  38.20994635]\n",
      " [ 35.0142828   13.34166406  66.82065549   9.11043358  32.07802986\n",
      "    9.16515139  66.19667665  23.10844002  76.92203845   0.\n",
      "   68.79680225  27.45906044  63.51377803   7.87400787  59.42221807\n",
      "   10.67707825  37.38983819  11.83215957  48.46648326  26.77685568\n",
      "   37.6696164    7.14142843  69.14477565   6.164414    63.41135545\n",
      "   13.49073756  43.65775991  15.06651917  43.37049688]\n",
      " [ 54.2678542   81.36952747  47.77028365  76.90253572  44.45222154\n",
      "   76.63550091  33.          91.30717387  11.40175425  68.79680225\n",
      "    0.          90.82400564   9.11043358  76.28237018  30.03331484\n",
      "   79.06326581  38.32753579  70.12132343  21.58703314  89.97777503\n",
      "   38.60051813  72.59476565  23.62202362  69.37578828  15.8113883\n",
      "   78.41555968  29.81610303  57.56735186  33.43650699]\n",
      " [ 62.22539674  23.15167381  94.24966843  25.23885893  59.16924877\n",
      "   26.4952826   93.00537619  13.03840481 100.28459503  27.45906044\n",
      "   90.82400564   0.          87.09764635  24.61706725  86.02906486\n",
      "   23.87467277  64.03124237  36.30426972  72.14568594   4.12310563\n",
      "   64.19501538  28.3019434   94.83142939  26.98147513  87.56140702\n",
      "   20.14944168  68.33739825  39.05124838  68.91298862]\n",
      " [ 46.06517123  75.82875444  39.25557285  71.30918594  36.91882988\n",
      "   70.8942875   24.77902339  86.42916175  13.45362405  63.51377803\n",
      "    9.11043358  87.09764635   0.          70.71067812  21.09502311\n",
      "   73.430239    30.49590136  63.60817558  15.5241747   86.18004409\n",
      "   30.7408523   66.85057965  16.40121947  64.17164483   9.\n",
      "   73.44385611  22.84731932  52.04805472  25.70992026]\n",
      " [ 38.65229618   7.07106781  71.22499561   4.12310563  37.77565354\n",
      "    3.74165739  71.8748913   17.1464282   84.12490713   7.87400787\n",
      "   76.28237018  24.61706725  70.71067812   0.          65.30696747\n",
      "    2.82842712  43.4281015   11.74734012  55.65069631  23.89560629\n",
      "   43.60045871   5.74456265  75.45197148   9.48683298  70.23531875\n",
      "   10.67707825  50.29910536  21.          49.52776999]\n",
      " [ 32.01562119  70.03570518  18.81488772  65.63535633  27.82085549\n",
      "   64.83054835   7.54983444  82.22530024  28.80972058  59.42221807\n",
      "   30.03331484  86.02906486  21.09502311  65.30696747   0.\n",
      "   67.68308504  22.11334439  55.66866264  22.13594362  85.07643622\n",
      "   22.44994432  61.31883887  13.03840481  60.50619803  18.81488772\n",
      "   69.92138443  22.11334439  48.70318265  20.34698995]\n",
      " [ 40.42276586   5.47722558  73.13685801   4.58257569  40.13726448\n",
      "    4.24264069  74.17546764  15.16575089  86.83893136  10.67707825\n",
      "   79.06326581  23.87467277  73.430239     2.82842712  67.68308504\n",
      "    0.          45.89117562  13.19090596  58.38664231  23.21637353\n",
      "   46.05431576   7.81024968  77.95511529  11.91637529  72.89032858\n",
      "   11.04536102  52.93392107  23.60084744  52.04805472]\n",
      " [ 17.54992877  48.45616576  33.03028913  43.96589587   7.54983444\n",
      "   43.19722213  29.15475947  60.28266749  43.23193264  37.38983819\n",
      "   38.32753579  64.03124237  30.49590136  43.4281015   22.11334439\n",
      "   45.89117562   0.          34.43835072  18.13835715  63.03173804\n",
      "    3.          39.40812099  32.20248438  38.41874542  29.17190429\n",
      "   47.89572006  12.56980509  26.92582404  10.24695077]\n",
      " [ 27.67670501  16.18641406  60.20797289  12.4498996   28.51315486\n",
      "   10.95445115  61.91930232  28.31960452  76.87002016  11.83215957\n",
      "   70.12132343  36.30426972  63.60817558  11.74734012  55.66866264\n",
      "   13.19090596  34.43835072   0.          48.95916666  35.39774004\n",
      "   34.56877203   9.11043358  66.43041472  13.6381817   62.52199613\n",
      "   19.6468827   42.77849927  17.29161647  41.09744518]\n",
      " [ 35.39774004  61.06553856  40.02499219  56.5154846   24.45403852\n",
      "   56.08029957  29.03446228  71.35124386  28.91366459  48.46648326\n",
      "   21.58703314  72.14568594  15.5241747   55.65069631  22.13594362\n",
      "   58.38664231  18.13835715  48.95916666   0.          71.06335202\n",
      "   18.05547009  51.63332257  24.81934729  48.7954916   15.93737745\n",
      "   57.99137867   9.11043358  36.57868232  13.56465997]\n",
      " [ 61.65225057  23.43074903  93.47726996  25.17935662  58.44655678\n",
      "   26.2488095   92.13576938  13.60147051  99.40824915  26.77685568\n",
      "   89.97777503   4.12310563  86.18004409  23.89560629  85.07643622\n",
      "   23.21637353  63.03173804  35.39774004  71.06335202   0.\n",
      "   63.00793601  26.94438717  93.66963222  25.3968502   86.2670273\n",
      "   17.80449381  66.94027188  37.33630941  67.45368782]\n",
      " [ 18.78829423  48.91829923  33.61547263  44.40720662   9.48683298\n",
      "   43.57751714  29.61418579  60.50619803  43.47413024  37.6696164\n",
      "   38.60051813  64.19501538  30.7408523   43.60045871  22.44994432\n",
      "   46.05431576   3.          34.56877203  18.05547009  63.00793601\n",
      "    0.          39.29376541  31.96873473  38.22302971  28.60069929\n",
      "   47.54997371  11.18033989  26.30589288   8.1240384 ]\n",
      " [ 35.67912555  12.68857754  67.6609193    9.16515139  34.2636834\n",
      "    8.18535277  68.00735254  21.9317122   80.28698525   7.14142843\n",
      "   72.59476565  28.3019434   66.85057965   5.74456265  61.31883887\n",
      "    7.81024968  39.40812099   9.11043358  51.63332257  26.94438717\n",
      "   39.29376541   0.          71.1758386    6.08276253  65.8634952\n",
      "   10.63014581  45.79301257  16.1245155   44.87761134]\n",
      " [ 44.55333882  80.62877898  27.5317998   76.11832894  38.91015292\n",
      "   75.37240874  13.07669683  92.19002115  19.07878403  69.14477565\n",
      "   23.62202362  94.83142939  16.40121947  75.45197148  13.03840481\n",
      "   77.95511529  32.20248438  66.43041472  24.81934729  93.66963222\n",
      "   31.96873473  71.1758386    0.          69.63476143  12.40967365\n",
      "   78.91134266  27.18455444  57.14892825  26.98147513]\n",
      " [ 37.41657387  16.24807681  68.4908753   12.68857754  33.95585369\n",
      "   12.40967365  67.48333128  23.53720459  77.62087348   6.164414\n",
      "   69.37578828  26.98147513  64.17164483   9.48683298  60.50619803\n",
      "   11.91637529  38.41874542  13.6381817   48.7954916   25.3968502\n",
      "   38.22302971   6.08276253  69.63476143   0.          63.39558344\n",
      "    9.69535971  43.4281015   13.          43.13930922]\n",
      " [ 44.93328388  75.80897045  36.93237063  71.23201527  36.41428291\n",
      "   70.63285355  22.91287847  86.37708029  17.3781472   63.41135545\n",
      "   15.8113883   87.56140702   9.          70.23531875  18.81488772\n",
      "   72.89032858  29.17190429  62.52199613  15.93737745  86.2670273\n",
      "   28.60069929  65.8634952   12.40967365  63.39558344   0.\n",
      "   72.44998275  20.1246118   50.69516742  22.04540769]\n",
      " [ 46.021734    15.29705854  77.46612163  14.31782106  43.46262762\n",
      "   14.35270009  76.88953115  16.73320053  86.87347121  13.49073756\n",
      "   78.41555968  20.14944168  73.44385611  10.67707825  69.92138443\n",
      "   11.04536102  47.89572006  19.6468827   57.99137867  17.80449381\n",
      "   47.54997371  10.63014581  78.91134266   9.69535971  72.44998275\n",
      "    0.          52.49761899  21.84032967  52.1823725 ]\n",
      " [ 29.89983278  56.08921465  38.01315562  51.50728104  19.5192213\n",
      "   50.85272854  29.59729717  66.54321904  35.81898938  43.65775991\n",
      "   29.81610303  68.33739825  22.84731932  50.29910536  22.11334439\n",
      "   52.93392107  12.56980509  42.77849927   9.11043358  66.94027188\n",
      "   11.18033989  45.79301257  27.18455444  43.4281015   20.1246118\n",
      "   52.49761899   0.          30.6757233    5.19615242]\n",
      " [ 30.14962686  27.65863337  58.25804665  23.32380758  24.04163056\n",
      "   22.69361144  55.90169944  36.51027253  65.46754921  15.06651917\n",
      "   57.56735186  39.05124838  52.04805472  21.          48.70318265\n",
      "   23.60084744  26.92582404  17.29161647  36.57868232  37.33630941\n",
      "   26.30589288  16.1245155   57.14892825  13.          50.69516742\n",
      "   21.84032967  30.6757233    0.          30.43024811]\n",
      " [ 26.47640459  55.29014379  34.55430509  50.73460358  17.49285568\n",
      "   49.92995093  27.76688675  66.17401303  38.20994635  43.37049688\n",
      "   33.43650699  68.91298862  25.70992026  49.52776999  20.34698995\n",
      "   52.04805472  10.24695077  41.09744518  13.56465997  67.45368782\n",
      "    8.1240384   44.87761134  26.98147513  43.13930922  22.04540769\n",
      "   52.1823725    5.19615242  30.43024811   0.        ]]\n"
     ]
    }
   ],
   "source": [
    "# Minkowski Distance\n",
    "from scipy.spatial.distance import cdist\n",
    "from scipy.spatial.distance import cdist\n",
    "# Read the CSV file\n",
    "data = pd.read_csv('/content/numbers.csv')\n",
    "# Calculate Minkowski distance matrix\n",
    "p = 2 # Choose the desired order of Minkowski distance (p=1 for Manhattan distance, p=2 for Euclidean distance)\n",
    "minkowski_dist = cdist(data, data, metric='minkowski', p=p)\n",
    "# Print the distance matrix\n",
    "print(\"Minkowski Distance Matrix:\")\n",
    "print(minkowski_dist)"
   ]
  },
  {
   "cell_type": "code",
   "execution_count": 19,
   "metadata": {
    "colab": {
     "base_uri": "https://localhost:8080/"
    },
    "id": "zGFm9TdeC2dA",
    "outputId": "14a54703-3932-4df3-c124-d5006d7662c6"
   },
   "outputs": [
    {
     "name": "stdout",
     "output_type": "stream",
     "text": [
      "Supremum Distance Matrix:\n",
      "[[ 0. 42. 33. 38. 12. 37. 33. 55. 45. 33. 48. 60. 39. 38. 26. 40. 16. 27.\n",
      "  33. 59. 16. 34. 34. 34. 35. 43. 26. 22. 21.]\n",
      " [42.  0. 75.  4. 41.  5. 75. 13. 78.  9. 67. 18. 66.  5. 68.  5. 46. 15.\n",
      "  52. 17. 46.  9. 76. 10. 67. 13. 49. 20. 50.]\n",
      " [33. 75.  0. 71. 34. 70. 15. 88. 44. 66. 47. 93. 38. 71. 17. 73. 29. 60.\n",
      "  32. 92. 29. 67. 26. 67. 34. 76. 26. 55. 25.]\n",
      " [38.  4. 71.  0. 37.  1. 71. 17. 74.  7. 63. 22. 62.  4. 64.  4. 42. 11.\n",
      "  48. 21. 42.  8. 72.  9. 63. 12. 45. 16. 46.]\n",
      " [12. 41. 34. 37.  0. 36. 34. 54. 37. 32. 36. 59. 27. 37. 27. 39.  5. 26.\n",
      "  21. 58.  7. 33. 35. 33. 26. 42. 14. 21. 12.]\n",
      " [37.  5. 70.  1. 36.  0. 70. 18. 73.  8. 62. 23. 61.  3. 63.  3. 41. 10.\n",
      "  47. 22. 41.  7. 71.  9. 62. 11. 44. 15. 45.]\n",
      " [33. 75. 15. 71. 34. 70.  0. 88. 29. 66. 32. 93. 23. 71.  7. 73. 29. 60.\n",
      "  23. 92. 29. 67. 11. 67. 19. 76. 26. 55. 25.]\n",
      " [55. 13. 88. 17. 54. 18. 88.  0. 91. 22. 80. 12. 79. 17. 81. 15. 59. 28.\n",
      "  65. 12. 59. 21. 89. 21. 80. 12. 62. 33. 63.]\n",
      " [45. 78. 44. 74. 37. 73. 29. 91.  0. 69. 11. 96. 12. 74. 27. 76. 32. 63.\n",
      "  26. 95. 32. 70. 18. 70. 11. 79. 29. 58. 28.]\n",
      " [33.  9. 66.  7. 32.  8. 66. 22. 69.  0. 58. 27. 57.  6. 59.  8. 37. 10.\n",
      "  43. 26. 37.  5. 67.  6. 58. 10. 40. 11. 41.]\n",
      " [48. 67. 47. 63. 36. 62. 32. 80. 11. 58.  0. 85.  9. 63. 30. 65. 32. 52.\n",
      "  15. 84. 32. 59. 21. 59. 13. 68. 22. 47. 27.]\n",
      " [60. 18. 93. 22. 59. 23. 93. 12. 96. 27. 85.  0. 84. 22. 86. 20. 64. 33.\n",
      "  70.  4. 64. 26. 94. 26. 85. 17. 67. 38. 68.]\n",
      " [39. 66. 38. 62. 27. 61. 23. 79. 12. 57.  9. 84.  0. 62. 21. 64. 23. 51.\n",
      "  14. 83. 23. 58. 12. 58.  8. 67. 17. 46. 18.]\n",
      " [38.  5. 71.  4. 37.  3. 71. 17. 74.  6. 63. 22. 62.  0. 64.  2. 42. 11.\n",
      "  48. 21. 42.  4. 72.  7. 63.  8. 45. 16. 46.]\n",
      " [26. 68. 17. 64. 27. 63.  7. 81. 27. 59. 30. 86. 21. 64.  0. 66. 22. 53.\n",
      "  16. 85. 22. 60.  9. 60. 17. 69. 19. 48. 18.]\n",
      " [40.  5. 73.  4. 39.  3. 73. 15. 76.  8. 65. 20. 64.  2. 66.  0. 44. 13.\n",
      "  50. 19. 44.  6. 74.  9. 65.  8. 47. 18. 48.]\n",
      " [16. 46. 29. 42.  5. 41. 29. 59. 32. 37. 32. 64. 23. 42. 22. 44.  0. 31.\n",
      "  17. 63.  3. 38. 30. 38. 21. 47. 10. 26.  8.]\n",
      " [27. 15. 60. 11. 26. 10. 60. 28. 63. 10. 52. 33. 51. 11. 53. 13. 31.  0.\n",
      "  37. 32. 31.  7. 61. 11. 52. 16. 34. 15. 35.]\n",
      " [33. 52. 32. 48. 21. 47. 23. 65. 26. 43. 15. 70. 14. 48. 16. 50. 17. 37.\n",
      "   0. 69. 17. 44. 24. 44. 15. 53.  7. 32. 12.]\n",
      " [59. 17. 92. 21. 58. 22. 92. 12. 95. 26. 84.  4. 83. 21. 85. 19. 63. 32.\n",
      "  69.  0. 63. 25. 93. 25. 84. 16. 66. 37. 67.]\n",
      " [16. 46. 29. 42.  7. 41. 29. 59. 32. 37. 32. 64. 23. 42. 22. 44.  3. 31.\n",
      "  17. 63.  0. 38. 30. 38. 21. 47. 10. 26.  5.]\n",
      " [34.  9. 67.  8. 33.  7. 67. 21. 70.  5. 59. 26. 58.  4. 60.  6. 38.  7.\n",
      "  44. 25. 38.  0. 68.  6. 59.  9. 41. 12. 42.]\n",
      " [34. 76. 26. 72. 35. 71. 11. 89. 18. 67. 21. 94. 12. 72.  9. 74. 30. 61.\n",
      "  24. 93. 30. 68.  0. 68.  9. 77. 27. 56. 26.]\n",
      " [34. 10. 67.  9. 33.  9. 67. 21. 70.  6. 59. 26. 58.  7. 60.  9. 38. 11.\n",
      "  44. 25. 38.  6. 68.  0. 59.  9. 41. 12. 42.]\n",
      " [35. 67. 34. 63. 26. 62. 19. 80. 11. 58. 13. 85.  8. 63. 17. 65. 21. 52.\n",
      "  15. 84. 21. 59.  9. 59.  0. 68. 18. 47. 17.]\n",
      " [43. 13. 76. 12. 42. 11. 76. 12. 79. 10. 68. 17. 67.  8. 69.  8. 47. 16.\n",
      "  53. 16. 47.  9. 77.  9. 68.  0. 50. 21. 51.]\n",
      " [26. 49. 26. 45. 14. 44. 26. 62. 29. 40. 22. 67. 17. 45. 19. 47. 10. 34.\n",
      "   7. 66. 10. 41. 27. 41. 18. 50.  0. 29.  5.]\n",
      " [22. 20. 55. 16. 21. 15. 55. 33. 58. 11. 47. 38. 46. 16. 48. 18. 26. 15.\n",
      "  32. 37. 26. 12. 56. 12. 47. 21. 29.  0. 30.]\n",
      " [21. 50. 25. 46. 12. 45. 25. 63. 28. 41. 27. 68. 18. 46. 18. 48.  8. 35.\n",
      "  12. 67.  5. 42. 26. 42. 17. 51.  5. 30.  0.]]\n"
     ]
    }
   ],
   "source": [
    "# Supremum Distance\n",
    "from scipy.spatial.distance import cdist\n",
    "# Read the CSV file\n",
    "data = pd.read_csv('/content/numbers.csv')\n",
    "# Calculate Supremum distance matrix\n",
    "supremum_dist = cdist(data, data, metric='chebyshev')\n",
    "# Print the distance matrix\n",
    "print(\"Supremum Distance Matrix:\")\n",
    "print(supremum_dist)"
   ]
  },
  {
   "cell_type": "code",
   "execution_count": 21,
   "metadata": {
    "colab": {
     "base_uri": "https://localhost:8080/"
    },
    "id": "zSLow7-1C2pO",
    "outputId": "70031780-59d2-486d-d0f7-1c78c49ba874"
   },
   "outputs": [
    {
     "name": "stdout",
     "output_type": "stream",
     "text": [
      "Chi-Square Test:\n",
      "Chi-Square Statistic: 595.4864745513067\n",
      "P-value: 3.0876590024624494e-91\n"
     ]
    }
   ],
   "source": [
    "# Chi-Square\n",
    "from scipy.stats import chi2_contingency\n",
    "# Read the CSV file\n",
    "data = pd.read_csv('/content/numbers.csv')\n",
    "# Perform Chi-Square test\n",
    "chi2_results = chi2_contingency(data)\n",
    "chi2_statistic = chi2_results[0]\n",
    "p_value = chi2_results[1]\n",
    "print(\"Chi-Square Test:\")\n",
    "print(\"Chi-Square Statistic:\", chi2_statistic)\n",
    "print(\"P-value:\", p_value)"
   ]
  },
  {
   "cell_type": "code",
   "execution_count": 22,
   "metadata": {
    "colab": {
     "base_uri": "https://localhost:8080/"
    },
    "id": "ayaIB7VzC2so",
    "outputId": "aff1e2da-779f-4cb8-bc5f-185a1973a0e9"
   },
   "outputs": [
    {
     "name": "stdout",
     "output_type": "stream",
     "text": [
      "Covariance Matrix:\n",
      "            Column 1   Column 2     Column 3\n",
      "Column 1  183.423645  19.264778  -267.597291\n",
      "Column 2   19.264778  18.169951   -10.458128\n",
      "Column 3 -267.597291 -10.458128  1020.980296\n"
     ]
    }
   ],
   "source": [
    "# Covariance matrix\n",
    "# Read the CSV file\n",
    "data = pd.read_csv('/content/numbers.csv')\n",
    "# Calculate covariance matrix\n",
    "cov_matrix = data.cov()\n",
    "# Print the covariance matrix\n",
    "print(\"Covariance Matrix:\")\n",
    "print(cov_matrix)"
   ]
  },
  {
   "cell_type": "code",
   "execution_count": 23,
   "metadata": {
    "colab": {
     "base_uri": "https://localhost:8080/"
    },
    "id": "h5FRKykNDQYg",
    "outputId": "b2ca188f-e53e-4c59-baa5-136844c45ef5"
   },
   "outputs": [
    {
     "name": "stdout",
     "output_type": "stream",
     "text": [
      "Hamming Distance: 0.2\n"
     ]
    }
   ],
   "source": [
    "# Hamming_distance\n",
    "import numpy as np\n",
    "def hamming_distance(x, y):\n",
    "  return np.sum(x != y) / len(x)\n",
    "# Example usage\n",
    "x = \"abcde\"\n",
    "y = \"axcye\"\n",
    "hamming_dist = hamming_distance(list(x), list(y))\n",
    "print(\"Hamming Distance:\", hamming_dist)"
   ]
  },
  {
   "cell_type": "code",
   "execution_count": 24,
   "metadata": {
    "colab": {
     "base_uri": "https://localhost:8080/"
    },
    "id": "RvpciBNPDQb9",
    "outputId": "5a066b7a-cc6e-42b5-bebc-17d1010a8391"
   },
   "outputs": [
    {
     "name": "stdout",
     "output_type": "stream",
     "text": [
      "Jaccard Distance: 0.75\n"
     ]
    }
   ],
   "source": [
    "# Jaccard_distance\n",
    "import numpy as np\n",
    "def jaccard_distance(x, y):\n",
    " intersection = len(set(x).intersection(set(y)))\n",
    " union = len(set(x).union(set(y)))\n",
    " return 1 - intersection / union\n",
    "# Example usage\n",
    "x = [1, 2, 3, 4, 5]\n",
    "y = [4, 5, 6, 7, 8]\n",
    "jaccard_dist = jaccard_distance(x, y)\n",
    "print(\"Jaccard Distance:\", jaccard_dist)"
   ]
  },
  {
   "cell_type": "code",
   "execution_count": 33,
   "metadata": {
    "colab": {
     "base_uri": "https://localhost:8080/",
     "height": 90
    },
    "id": "lGNspHGYDQfW",
    "outputId": "cbc4fc36-3ef8-46c3-dbff-efe9b6c55506"
   },
   "outputs": [
    {
     "data": {
      "text/html": [
       "\n",
       "     <input type=\"file\" id=\"files-6bac517a-04b1-45d8-9876-7ca4effeed07\" name=\"files[]\" multiple disabled\n",
       "        style=\"border:none\" />\n",
       "     <output id=\"result-6bac517a-04b1-45d8-9876-7ca4effeed07\">\n",
       "      Upload widget is only available when the cell has been executed in the\n",
       "      current browser session. Please rerun this cell to enable.\n",
       "      </output>\n",
       "      <script>// Copyright 2017 Google LLC\n",
       "//\n",
       "// Licensed under the Apache License, Version 2.0 (the \"License\");\n",
       "// you may not use this file except in compliance with the License.\n",
       "// You may obtain a copy of the License at\n",
       "//\n",
       "//      http://www.apache.org/licenses/LICENSE-2.0\n",
       "//\n",
       "// Unless required by applicable law or agreed to in writing, software\n",
       "// distributed under the License is distributed on an \"AS IS\" BASIS,\n",
       "// WITHOUT WARRANTIES OR CONDITIONS OF ANY KIND, either express or implied.\n",
       "// See the License for the specific language governing permissions and\n",
       "// limitations under the License.\n",
       "\n",
       "/**\n",
       " * @fileoverview Helpers for google.colab Python module.\n",
       " */\n",
       "(function(scope) {\n",
       "function span(text, styleAttributes = {}) {\n",
       "  const element = document.createElement('span');\n",
       "  element.textContent = text;\n",
       "  for (const key of Object.keys(styleAttributes)) {\n",
       "    element.style[key] = styleAttributes[key];\n",
       "  }\n",
       "  return element;\n",
       "}\n",
       "\n",
       "// Max number of bytes which will be uploaded at a time.\n",
       "const MAX_PAYLOAD_SIZE = 100 * 1024;\n",
       "\n",
       "function _uploadFiles(inputId, outputId) {\n",
       "  const steps = uploadFilesStep(inputId, outputId);\n",
       "  const outputElement = document.getElementById(outputId);\n",
       "  // Cache steps on the outputElement to make it available for the next call\n",
       "  // to uploadFilesContinue from Python.\n",
       "  outputElement.steps = steps;\n",
       "\n",
       "  return _uploadFilesContinue(outputId);\n",
       "}\n",
       "\n",
       "// This is roughly an async generator (not supported in the browser yet),\n",
       "// where there are multiple asynchronous steps and the Python side is going\n",
       "// to poll for completion of each step.\n",
       "// This uses a Promise to block the python side on completion of each step,\n",
       "// then passes the result of the previous step as the input to the next step.\n",
       "function _uploadFilesContinue(outputId) {\n",
       "  const outputElement = document.getElementById(outputId);\n",
       "  const steps = outputElement.steps;\n",
       "\n",
       "  const next = steps.next(outputElement.lastPromiseValue);\n",
       "  return Promise.resolve(next.value.promise).then((value) => {\n",
       "    // Cache the last promise value to make it available to the next\n",
       "    // step of the generator.\n",
       "    outputElement.lastPromiseValue = value;\n",
       "    return next.value.response;\n",
       "  });\n",
       "}\n",
       "\n",
       "/**\n",
       " * Generator function which is called between each async step of the upload\n",
       " * process.\n",
       " * @param {string} inputId Element ID of the input file picker element.\n",
       " * @param {string} outputId Element ID of the output display.\n",
       " * @return {!Iterable<!Object>} Iterable of next steps.\n",
       " */\n",
       "function* uploadFilesStep(inputId, outputId) {\n",
       "  const inputElement = document.getElementById(inputId);\n",
       "  inputElement.disabled = false;\n",
       "\n",
       "  const outputElement = document.getElementById(outputId);\n",
       "  outputElement.innerHTML = '';\n",
       "\n",
       "  const pickedPromise = new Promise((resolve) => {\n",
       "    inputElement.addEventListener('change', (e) => {\n",
       "      resolve(e.target.files);\n",
       "    });\n",
       "  });\n",
       "\n",
       "  const cancel = document.createElement('button');\n",
       "  inputElement.parentElement.appendChild(cancel);\n",
       "  cancel.textContent = 'Cancel upload';\n",
       "  const cancelPromise = new Promise((resolve) => {\n",
       "    cancel.onclick = () => {\n",
       "      resolve(null);\n",
       "    };\n",
       "  });\n",
       "\n",
       "  // Wait for the user to pick the files.\n",
       "  const files = yield {\n",
       "    promise: Promise.race([pickedPromise, cancelPromise]),\n",
       "    response: {\n",
       "      action: 'starting',\n",
       "    }\n",
       "  };\n",
       "\n",
       "  cancel.remove();\n",
       "\n",
       "  // Disable the input element since further picks are not allowed.\n",
       "  inputElement.disabled = true;\n",
       "\n",
       "  if (!files) {\n",
       "    return {\n",
       "      response: {\n",
       "        action: 'complete',\n",
       "      }\n",
       "    };\n",
       "  }\n",
       "\n",
       "  for (const file of files) {\n",
       "    const li = document.createElement('li');\n",
       "    li.append(span(file.name, {fontWeight: 'bold'}));\n",
       "    li.append(span(\n",
       "        `(${file.type || 'n/a'}) - ${file.size} bytes, ` +\n",
       "        `last modified: ${\n",
       "            file.lastModifiedDate ? file.lastModifiedDate.toLocaleDateString() :\n",
       "                                    'n/a'} - `));\n",
       "    const percent = span('0% done');\n",
       "    li.appendChild(percent);\n",
       "\n",
       "    outputElement.appendChild(li);\n",
       "\n",
       "    const fileDataPromise = new Promise((resolve) => {\n",
       "      const reader = new FileReader();\n",
       "      reader.onload = (e) => {\n",
       "        resolve(e.target.result);\n",
       "      };\n",
       "      reader.readAsArrayBuffer(file);\n",
       "    });\n",
       "    // Wait for the data to be ready.\n",
       "    let fileData = yield {\n",
       "      promise: fileDataPromise,\n",
       "      response: {\n",
       "        action: 'continue',\n",
       "      }\n",
       "    };\n",
       "\n",
       "    // Use a chunked sending to avoid message size limits. See b/62115660.\n",
       "    let position = 0;\n",
       "    do {\n",
       "      const length = Math.min(fileData.byteLength - position, MAX_PAYLOAD_SIZE);\n",
       "      const chunk = new Uint8Array(fileData, position, length);\n",
       "      position += length;\n",
       "\n",
       "      const base64 = btoa(String.fromCharCode.apply(null, chunk));\n",
       "      yield {\n",
       "        response: {\n",
       "          action: 'append',\n",
       "          file: file.name,\n",
       "          data: base64,\n",
       "        },\n",
       "      };\n",
       "\n",
       "      let percentDone = fileData.byteLength === 0 ?\n",
       "          100 :\n",
       "          Math.round((position / fileData.byteLength) * 100);\n",
       "      percent.textContent = `${percentDone}% done`;\n",
       "\n",
       "    } while (position < fileData.byteLength);\n",
       "  }\n",
       "\n",
       "  // All done.\n",
       "  yield {\n",
       "    response: {\n",
       "      action: 'complete',\n",
       "    }\n",
       "  };\n",
       "}\n",
       "\n",
       "scope.google = scope.google || {};\n",
       "scope.google.colab = scope.google.colab || {};\n",
       "scope.google.colab._files = {\n",
       "  _uploadFiles,\n",
       "  _uploadFilesContinue,\n",
       "};\n",
       "})(self);\n",
       "</script> "
      ],
      "text/plain": [
       "<IPython.core.display.HTML object>"
      ]
     },
     "metadata": {},
     "output_type": "display_data"
    },
    {
     "name": "stdout",
     "output_type": "stream",
     "text": [
      "Saving Gowers.csv to Gowers.csv\n",
      "Gower's Distance: 0.38500548950753377\n"
     ]
    }
   ],
   "source": [
    "# Gower_distance\n",
    "import numpy as np\n",
    "from google.colab import files\n",
    "uploaded = files.upload()\n",
    "from scipy.spatial import distance\n",
    "import pandas as pd\n",
    "def gower_distance(x, y):\n",
    "# Normalize the numeric distance by setting an appropriate maximum value\n",
    "  max_numeric_value = data['Column 1'].max()\n",
    "  num_dist = distance.euclidean([x['Column 1']], [y['Column 1']]) / max_numeric_value if max_numeric_value != 0 else 0\n",
    "# Calculate binary and ordinal distances\n",
    "  bin_dist = distance.hamming([x['Column 2']], [y['Column 2']])\n",
    "  ord_dist = distance.cityblock([x['Column 3']], [y['Column 3']]) / (data['Column 3'].max() - data['Column 3'].min()) if (data['Column 3'].max() - data['Column 3'].min()) != 0 else 0\n",
    "# Combine distances with weights\n",
    "  if weights is not None:\n",
    "    dist = (weights['Column 1'] * num_dist + weights['Column 2'] * bin_dist + weights['Column 3'] * ord_dist)\n",
    "  else:\n",
    "    dist = num_dist + bin_dist + ord_dist\n",
    "  return dist\n",
    "# Read data from CSV\n",
    "data = pd.read_csv('/content/Gowers.csv')\n",
    "# Sample data from the CSV file\n",
    "x = {'Column 1': data['Column 1'][0], 'Column 2': data['Column 2'][0], 'Column 3': data['Column 3'][0]}\n",
    "y = {'Column 1': data['Column 1'][1], 'Column 2': data['Column 2'][1], 'Column 3': data['Column 3'][1]}\n",
    "# Set weights\n",
    "weights = {'Column 1': 0.5, 'Column 2': 0.3, 'Column 3': 0.2}\n",
    "# Calculate Gower's distance\n",
    "gower_dist = gower_distance(x, y)\n",
    "# Print the Gower's Distance\n",
    "print(\"Gower's Distance:\", gower_dist)"
   ]
  },
  {
   "cell_type": "code",
   "execution_count": 34,
   "metadata": {
    "colab": {
     "base_uri": "https://localhost:8080/"
    },
    "id": "VgkORCTGDREq",
    "outputId": "76c4bd0a-32df-41f4-bc4b-95325ce5a2b3"
   },
   "outputs": [
    {
     "name": "stdout",
     "output_type": "stream",
     "text": [
      "Spearman's Correlation Coefficient: 0.9999999999999999\n",
      "Spearman's Distance: 2.220446049250313e-16\n"
     ]
    }
   ],
   "source": [
    "# Spearmanr\n",
    "from scipy.stats import spearmanr\n",
    "# Define the data\n",
    "hours_studied = [1, 2, 3, 4, 5]\n",
    "test_scores = [50, 60, 70, 80, 85]\n",
    "# Calculate Spearman's rank correlation\n",
    "spearman_dist, _ = spearmanr(hours_studied, test_scores)\n",
    "# Calculate Spearman's distance\n",
    "spearman_distance = 2 * (1 - spearman_dist)\n",
    "# Print the results\n",
    "print(\"Spearman's Correlation Coefficient:\", spearman_dist)\n",
    "print(\"Spearman's Distance:\", spearman_distance)"
   ]
  }
 ],
 "metadata": {
  "colab": {
   "provenance": []
  },
  "kernel_info": {
   "name": "python"
  },
  "kernelspec": {
   "display_name": "Pyolite (preview)",
   "language": "python",
   "name": "python"
  },
  "language_info": {
   "codemirror_mode": {
    "name": "python",
    "version": 3
   },
   "file_extension": ".py",
   "mimetype": "text/x-python",
   "name": "python",
   "nbconvert_exporter": "python",
   "pygments_lexer": "ipython3",
   "version": "3.8"
  },
  "nteract": {
   "version": "nteract-front-end@1.0.0"
  }
 },
 "nbformat": 4,
 "nbformat_minor": 0
}
